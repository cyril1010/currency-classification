{
  "nbformat": 4,
  "nbformat_minor": 0,
  "metadata": {
    "colab": {
      "provenance": []
    },
    "kernelspec": {
      "name": "python3",
      "display_name": "Python 3"
    },
    "language_info": {
      "name": "python"
    }
  },
  "cells": [
    {
      "cell_type": "markdown",
      "source": [
        "#**Currency Classification Deep Learning Model Using Convolutional Neural Networks**"
      ],
      "metadata": {
        "id": "zEN_iIYV49rZ"
      }
    },
    {
      "cell_type": "markdown",
      "metadata": {
        "id": "ORUwBs1giPGj"
      },
      "source": [
        "*Necessary Libraries*"
      ]
    },
    {
      "cell_type": "code",
      "source": [
        "!pip install tensorflow"
      ],
      "metadata": {
        "id": "gVEjltCGEPg3"
      },
      "execution_count": null,
      "outputs": []
    },
    {
      "cell_type": "code",
      "execution_count": 1,
      "metadata": {
        "id": "lvSCjWt-uHHI"
      },
      "outputs": [],
      "source": [
        "import os\n",
        "import tensorflow as tf\n",
        "from tensorflow.keras import layers, models\n",
        "from tensorflow.keras.preprocessing.image import ImageDataGenerator\n",
        "from google.colab import drive\n",
        "import numpy as np\n"
      ]
    },
    {
      "cell_type": "markdown",
      "metadata": {
        "id": "A43FVY4whFdY"
      },
      "source": [
        "*Access Google Drive for Dataset*"
      ]
    },
    {
      "cell_type": "code",
      "execution_count": 2,
      "metadata": {
        "colab": {
          "base_uri": "https://localhost:8080/"
        },
        "id": "-ymIiPq4Sr0w",
        "outputId": "ebea3924-b2ac-4d06-b1a8-6ff8ef51f80b"
      },
      "outputs": [
        {
          "output_type": "stream",
          "name": "stdout",
          "text": [
            "Drive already mounted at /content/drive; to attempt to forcibly remount, call drive.mount(\"/content/drive\", force_remount=True).\n"
          ]
        }
      ],
      "source": [
        "drive.mount('/content/drive')"
      ]
    },
    {
      "cell_type": "code",
      "source": [
        "# Define base directory\n",
        "base_dir = \"/content/drive/MyDrive/DL/Currency/dataset/old-currency\"\n",
        "\n",
        "# Define train, test, and valid directories\n",
        "train_dir = os.path.join(base_dir, \"train\")\n",
        "test_dir = os.path.join(base_dir, \"test\")\n",
        "valid_dir = os.path.join(base_dir, \"valid\")"
      ],
      "metadata": {
        "id": "y7SXpPwAxJ5q"
      },
      "execution_count": 3,
      "outputs": []
    },
    {
      "cell_type": "code",
      "source": [
        "img_width, img_height = 200, 200\n",
        "batch_size = 32\n",
        "epochs = 10\n",
        "num_classes = 4  # Number of classes (number of different currency notes)\n",
        "\n"
      ],
      "metadata": {
        "id": "72u7wx1AujqP"
      },
      "execution_count": 4,
      "outputs": []
    },
    {
      "cell_type": "code",
      "source": [
        "train_datagen = ImageDataGenerator(rescale=1./255, validation_split=0.2)\n",
        "\n",
        "train_generator = train_datagen.flow_from_directory(\n",
        "    train_dir,\n",
        "    target_size=(img_width, img_height),\n",
        "    batch_size=batch_size,\n",
        "    class_mode='categorical')\n",
        "\n",
        "validation_generator = train_datagen.flow_from_directory(\n",
        "    valid_dir,\n",
        "    target_size=(img_width, img_height),\n",
        "    batch_size=batch_size,\n",
        "    class_mode='categorical')\n",
        "\n",
        "test_generator = train_datagen.flow_from_directory(\n",
        "    test_dir,\n",
        "    target_size=(img_width, img_height),\n",
        "    batch_size=batch_size,\n",
        "    class_mode='categorical',\n",
        "    shuffle=False  # Ensure that images are not shuffled\n",
        ")\n"
      ],
      "metadata": {
        "id": "_RnGqOsfv2Ha",
        "colab": {
          "base_uri": "https://localhost:8080/"
        },
        "outputId": "6dff010c-6d8f-42d0-d100-c9b3ac111c1c"
      },
      "execution_count": 5,
      "outputs": [
        {
          "output_type": "stream",
          "name": "stdout",
          "text": [
            "Found 635 images belonging to 4 classes.\n",
            "Found 118 images belonging to 4 classes.\n",
            "Found 233 images belonging to 4 classes.\n"
          ]
        }
      ]
    },
    {
      "cell_type": "code",
      "source": [
        "model = models.Sequential([\n",
        "    layers.Conv2D(32, (3, 3), activation='relu', input_shape=(img_width, img_height, 3)),\n",
        "    layers.MaxPooling2D((2, 2)),\n",
        "    layers.Conv2D(64, (3, 3), activation='relu'),\n",
        "    layers.MaxPooling2D((2, 2)),\n",
        "    layers.Conv2D(128, (3, 3), activation='relu'),\n",
        "    layers.MaxPooling2D((2, 2)),\n",
        "    layers.Conv2D(128, (3, 3), activation='relu'),\n",
        "    layers.MaxPooling2D((2, 2)),\n",
        "    layers.Flatten(),\n",
        "    layers.Dropout(0.5),\n",
        "    layers.Dense(512, activation='relu'),\n",
        "    layers.Dense(num_classes, activation='softmax')\n",
        "])\n"
      ],
      "metadata": {
        "id": "wsaoxT5Gv5zn"
      },
      "execution_count": 6,
      "outputs": []
    },
    {
      "cell_type": "code",
      "source": [
        "model.compile(optimizer='adam',loss='categorical_crossentropy',metrics=['accuracy'])"
      ],
      "metadata": {
        "id": "7R3kXutzv8YA"
      },
      "execution_count": 7,
      "outputs": []
    },
    {
      "cell_type": "code",
      "source": [
        "import matplotlib.pyplot as plt\n",
        "\n",
        "# Display images from the test generator\n",
        "class_labels = list(train_generator.class_indices.keys())\n",
        "for images, labels in test_generator:\n",
        "    # Display each image in the batch\n",
        "    for i in range(len(images)):\n",
        "        plt.imshow(images[i])\n",
        "        plt.title(f'Class: {class_labels[np.argmax(labels[i])]}')\n",
        "        plt.axis('off')\n",
        "        plt.show()"
      ],
      "metadata": {
        "id": "uQVCR_sxNptj"
      },
      "execution_count": null,
      "outputs": []
    },
    {
      "cell_type": "code",
      "source": [
        "history = model.fit(\n",
        "    train_generator,\n",
        "    steps_per_epoch=len(train_generator),\n",
        "    epochs=epochs,\n",
        "    validation_data=validation_generator,\n",
        "    validation_steps=len(validation_generator)\n",
        ")"
      ],
      "metadata": {
        "id": "Kgaqxokqv-vL",
        "colab": {
          "base_uri": "https://localhost:8080/"
        },
        "outputId": "f8ff1988-f366-4a85-ef0a-0542c6627b46"
      },
      "execution_count": 10,
      "outputs": [
        {
          "output_type": "stream",
          "name": "stdout",
          "text": [
            "Epoch 1/10\n",
            "20/20 [==============================] - 311s 15s/step - loss: 1.4032 - accuracy: 0.2551 - val_loss: 1.4823 - val_accuracy: 0.2034\n",
            "Epoch 2/10\n",
            "20/20 [==============================] - 88s 4s/step - loss: 1.3552 - accuracy: 0.3449 - val_loss: 1.3482 - val_accuracy: 0.3644\n",
            "Epoch 3/10\n",
            "20/20 [==============================] - 80s 4s/step - loss: 1.1003 - accuracy: 0.5480 - val_loss: 1.1146 - val_accuracy: 0.4831\n",
            "Epoch 4/10\n",
            "20/20 [==============================] - 74s 4s/step - loss: 0.8906 - accuracy: 0.6362 - val_loss: 1.2192 - val_accuracy: 0.6102\n",
            "Epoch 5/10\n",
            "20/20 [==============================] - 81s 4s/step - loss: 0.8332 - accuracy: 0.6598 - val_loss: 1.2756 - val_accuracy: 0.5847\n",
            "Epoch 6/10\n",
            "20/20 [==============================] - 75s 4s/step - loss: 0.6793 - accuracy: 0.7276 - val_loss: 1.2015 - val_accuracy: 0.6017\n",
            "Epoch 7/10\n",
            "20/20 [==============================] - 75s 4s/step - loss: 0.5052 - accuracy: 0.8016 - val_loss: 1.7616 - val_accuracy: 0.5678\n",
            "Epoch 8/10\n",
            "20/20 [==============================] - 74s 4s/step - loss: 0.3896 - accuracy: 0.8425 - val_loss: 2.1516 - val_accuracy: 0.5169\n",
            "Epoch 9/10\n",
            "20/20 [==============================] - 81s 4s/step - loss: 0.3092 - accuracy: 0.8898 - val_loss: 1.7095 - val_accuracy: 0.5847\n",
            "Epoch 10/10\n",
            "20/20 [==============================] - 75s 4s/step - loss: 0.2125 - accuracy: 0.9150 - val_loss: 2.1831 - val_accuracy: 0.6102\n"
          ]
        }
      ]
    },
    {
      "cell_type": "code",
      "source": [
        "\n",
        "# Evaluate the model\n",
        "test_loss, test_accuracy = model.evaluate(test_generator)\n",
        "print()\n",
        "print(f'Test accuracy: {test_accuracy*100}')\n",
        "print(f'Test loss: {test_loss}')\n"
      ],
      "metadata": {
        "id": "hnMRi_DmyM0_",
        "colab": {
          "base_uri": "https://localhost:8080/"
        },
        "outputId": "427a7643-808b-480a-cba7-a917316405fc"
      },
      "execution_count": 11,
      "outputs": [
        {
          "output_type": "stream",
          "name": "stdout",
          "text": [
            "8/8 [==============================] - 66s 9s/step - loss: 1.0852 - accuracy: 0.6867\n",
            "\n",
            "Test accuracy: 68.66952776908875\n",
            "Test loss: 1.0852299928665161\n"
          ]
        }
      ]
    },
    {
      "cell_type": "code",
      "source": [
        "# Get the number of batches in the test generator\n",
        "num_batches = len(test_generator)\n",
        "\n",
        "# Generate random indices of batches to sample\n",
        "random_indices = random.sample(range(num_batches), min(num_images_to_test, num_batches))\n",
        "\n",
        "# Iterate through the randomly selected batches\n",
        "for i in random_indices:\n",
        "    # Get the i-th batch of images and labels\n",
        "    images, labels = test_generator[i]\n",
        "\n",
        "    # Generate predictions for the batch\n",
        "    predictions = model.predict(images)\n",
        "\n",
        "    # Display predictions along with images\n",
        "    for j in range(len(images)):\n",
        "        plt.figure()\n",
        "        plt.imshow(images[j])  # Display the j-th image in the batch\n",
        "        predicted_class = class_labels[np.argmax(predictions[j])]\n",
        "        plt.title(f'Image {i*num_images_to_test + j + 1}: Predicted class - {predicted_class}')\n",
        "        plt.axis('off')\n",
        "        plt.show()\n"
      ],
      "metadata": {
        "id": "wg3goWYKEFk6"
      },
      "execution_count": null,
      "outputs": []
    }
  ]
}